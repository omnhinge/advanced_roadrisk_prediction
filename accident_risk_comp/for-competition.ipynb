{
 "cells": [
  {
   "cell_type": "code",
   "execution_count": 1,
   "metadata": {
    "_cell_guid": "b1076dfc-b9ad-4769-8c92-a6c4dae69d19",
    "_uuid": "8f2839f25d086af736a60e9eeb907d3b93b6e0e5",
    "execution": {
     "iopub.execute_input": "2025-10-30T06:11:39.197428Z",
     "iopub.status.busy": "2025-10-30T06:11:39.197146Z",
     "iopub.status.idle": "2025-10-30T06:11:39.523401Z",
     "shell.execute_reply": "2025-10-30T06:11:39.522487Z",
     "shell.execute_reply.started": "2025-10-30T06:11:39.197407Z"
    },
    "jupyter": {
     "source_hidden": true
    },
    "trusted": true
   },
   "outputs": [
    {
     "name": "stdout",
     "output_type": "stream",
     "text": [
      "/kaggle/input/for-comp/train.csv\n"
     ]
    }
   ],
   "source": [
    "# This Python 3 environment comes with many helpful analytics libraries installed\n",
    "# It is defined by the kaggle/python Docker image: https://github.com/kaggle/docker-python\n",
    "# For example, here's several helpful packages to load\n",
    "\n",
    "import numpy as np # linear algebra\n",
    "import pandas as pd # data processing, CSV file I/O (e.g. pd.read_csv)\n",
    "\n",
    "# Input data files are available in the read-only \"../input/\" directory\n",
    "# For example, running this (by clicking run or pressing Shift+Enter) will list all files under the input directory\n",
    "\n",
    "import os\n",
    "for dirname, _, filenames in os.walk('/kaggle/input'):\n",
    "    for filename in filenames:\n",
    "        print(os.path.join(dirname, filename))\n",
    "\n",
    "# You can write up to 20GB to the current directory (/kaggle/working/) that gets preserved as output when you create a version using \"Save & Run All\" \n",
    "# You can also write temporary files to /kaggle/temp/, but they won't be saved outside of the current session"
   ]
  },
  {
   "cell_type": "markdown",
   "metadata": {},
   "source": [
    "# %% [markdown]\n",
    "## 🧩 Cell 1 — Importing Libraries & Exploring Files\n",
    "\n",
    "Here, we import all the **essential libraries** — `numpy`, `pandas`, and `os` — used for data manipulation and file handling.  \n",
    "We also explore the Kaggle input directory to verify that the dataset files are available.\n",
    "\n",
    "**Why this step matters:**  \n",
    "Before doing any data analysis or model training, we need to confirm our workspace and dependencies are ready.\n",
    "\n",
    "```python\n",
    "import numpy as np\n",
    "import pandas as pd\n",
    "import os\n"
   ]
  },
  {
   "cell_type": "code",
   "execution_count": 2,
   "metadata": {
    "execution": {
     "iopub.execute_input": "2025-10-30T06:11:39.525457Z",
     "iopub.status.busy": "2025-10-30T06:11:39.525027Z",
     "iopub.status.idle": "2025-10-30T06:11:39.996638Z",
     "shell.execute_reply": "2025-10-30T06:11:39.995488Z",
     "shell.execute_reply.started": "2025-10-30T06:11:39.525434Z"
    },
    "trusted": true
   },
   "outputs": [
    {
     "name": "stdout",
     "output_type": "stream",
     "text": [
      "Path to dataset files: /kaggle/input/for-comp\n"
     ]
    }
   ],
   "source": [
    "import kagglehub\n",
    "\n",
    "# Download latest version\n",
    "path = kagglehub.dataset_download(\"omnhinge/for-comp\")\n",
    "\n",
    "print(\"Path to dataset files:\", path)"
   ]
  },
  {
   "cell_type": "markdown",
   "metadata": {},
   "source": [
    "# %% [markdown]\n",
    "## 📦 Cell 2 — Loading Dataset from Kaggle\n",
    "\n",
    "We use **`kagglehub`** to directly load the dataset from the Kaggle repository (`omnhinge/for-comp`).  \n",
    "This ensures a reproducible and version-controlled dataset loading process.\n",
    "\n",
    "**Why this step matters:**  \n",
    "Keeps the workflow consistent — anyone rerunning this notebook on Kaggle will automatically fetch the dataset.\n",
    "\n",
    "```python\n",
    "import kagglehub\n",
    "path = kagglehub.dataset_download(\"omnhinge/for-comp\")\n"
   ]
  },
  {
   "cell_type": "markdown",
   "metadata": {},
   "source": [
    "# %% [markdown]\n",
    "## 🗂️ Cell 3 — Reading CSV File\n",
    "\n",
    "This cell reads the downloaded CSV file into a **pandas DataFrame** for further analysis and processing.\n",
    "\n",
    "**Why this step matters:**  \n",
    "Data must be loaded into memory before cleaning, exploring, or modeling.\n",
    "\n",
    "```python\n",
    "file_path = os.path.join(path,\"train.csv\")\n",
    "df = pd.read_csv(file_path)\n"
   ]
  },
  {
   "cell_type": "code",
   "execution_count": 3,
   "metadata": {
    "execution": {
     "iopub.execute_input": "2025-10-30T06:11:39.998030Z",
     "iopub.status.busy": "2025-10-30T06:11:39.997741Z",
     "iopub.status.idle": "2025-10-30T06:11:41.201647Z",
     "shell.execute_reply": "2025-10-30T06:11:41.200738Z",
     "shell.execute_reply.started": "2025-10-30T06:11:39.998009Z"
    },
    "trusted": true
   },
   "outputs": [],
   "source": [
    "import pandas as pd\n",
    "import os\n",
    "file_path = os.path.join(path,\"train.csv\")\n",
    "df =pd.read_csv(file_path)"
   ]
  },
  {
   "cell_type": "markdown",
   "metadata": {},
   "source": [
    "\n",
    "## 👀 Cell 4 — Displaying the Dataset\n",
    "\n",
    "We quickly display the dataset to visually confirm that it loaded correctly and inspect the columns.\n",
    "\n",
    "**Why this step matters:**  \n",
    "A simple sanity check ensures that data isn’t corrupted or improperly read.\n",
    "\n",
    "```python\n",
    "df\n"
   ]
  },
  {
   "cell_type": "code",
   "execution_count": 4,
   "metadata": {
    "execution": {
     "iopub.execute_input": "2025-10-30T06:11:41.203108Z",
     "iopub.status.busy": "2025-10-30T06:11:41.202795Z",
     "iopub.status.idle": "2025-10-30T06:11:41.238440Z",
     "shell.execute_reply": "2025-10-30T06:11:41.237638Z",
     "shell.execute_reply.started": "2025-10-30T06:11:41.203082Z"
    },
    "trusted": true
   },
   "outputs": [
    {
     "data": {
      "text/html": [
       "<div>\n",
       "<style scoped>\n",
       "    .dataframe tbody tr th:only-of-type {\n",
       "        vertical-align: middle;\n",
       "    }\n",
       "\n",
       "    .dataframe tbody tr th {\n",
       "        vertical-align: top;\n",
       "    }\n",
       "\n",
       "    .dataframe thead th {\n",
       "        text-align: right;\n",
       "    }\n",
       "</style>\n",
       "<table border=\"1\" class=\"dataframe\">\n",
       "  <thead>\n",
       "    <tr style=\"text-align: right;\">\n",
       "      <th></th>\n",
       "      <th>id</th>\n",
       "      <th>road_type</th>\n",
       "      <th>num_lanes</th>\n",
       "      <th>curvature</th>\n",
       "      <th>speed_limit</th>\n",
       "      <th>lighting</th>\n",
       "      <th>weather</th>\n",
       "      <th>road_signs_present</th>\n",
       "      <th>public_road</th>\n",
       "      <th>time_of_day</th>\n",
       "      <th>holiday</th>\n",
       "      <th>school_season</th>\n",
       "      <th>num_reported_accidents</th>\n",
       "      <th>accident_risk</th>\n",
       "    </tr>\n",
       "  </thead>\n",
       "  <tbody>\n",
       "    <tr>\n",
       "      <th>0</th>\n",
       "      <td>0</td>\n",
       "      <td>urban</td>\n",
       "      <td>2</td>\n",
       "      <td>0.06</td>\n",
       "      <td>35</td>\n",
       "      <td>daylight</td>\n",
       "      <td>rainy</td>\n",
       "      <td>False</td>\n",
       "      <td>True</td>\n",
       "      <td>afternoon</td>\n",
       "      <td>False</td>\n",
       "      <td>True</td>\n",
       "      <td>1</td>\n",
       "      <td>0.13</td>\n",
       "    </tr>\n",
       "    <tr>\n",
       "      <th>1</th>\n",
       "      <td>1</td>\n",
       "      <td>urban</td>\n",
       "      <td>4</td>\n",
       "      <td>0.99</td>\n",
       "      <td>35</td>\n",
       "      <td>daylight</td>\n",
       "      <td>clear</td>\n",
       "      <td>True</td>\n",
       "      <td>False</td>\n",
       "      <td>evening</td>\n",
       "      <td>True</td>\n",
       "      <td>True</td>\n",
       "      <td>0</td>\n",
       "      <td>0.35</td>\n",
       "    </tr>\n",
       "    <tr>\n",
       "      <th>2</th>\n",
       "      <td>2</td>\n",
       "      <td>rural</td>\n",
       "      <td>4</td>\n",
       "      <td>0.63</td>\n",
       "      <td>70</td>\n",
       "      <td>dim</td>\n",
       "      <td>clear</td>\n",
       "      <td>False</td>\n",
       "      <td>True</td>\n",
       "      <td>morning</td>\n",
       "      <td>True</td>\n",
       "      <td>False</td>\n",
       "      <td>2</td>\n",
       "      <td>0.30</td>\n",
       "    </tr>\n",
       "    <tr>\n",
       "      <th>3</th>\n",
       "      <td>3</td>\n",
       "      <td>highway</td>\n",
       "      <td>4</td>\n",
       "      <td>0.07</td>\n",
       "      <td>35</td>\n",
       "      <td>dim</td>\n",
       "      <td>rainy</td>\n",
       "      <td>True</td>\n",
       "      <td>True</td>\n",
       "      <td>morning</td>\n",
       "      <td>False</td>\n",
       "      <td>False</td>\n",
       "      <td>1</td>\n",
       "      <td>0.21</td>\n",
       "    </tr>\n",
       "    <tr>\n",
       "      <th>4</th>\n",
       "      <td>4</td>\n",
       "      <td>rural</td>\n",
       "      <td>1</td>\n",
       "      <td>0.58</td>\n",
       "      <td>60</td>\n",
       "      <td>daylight</td>\n",
       "      <td>foggy</td>\n",
       "      <td>False</td>\n",
       "      <td>False</td>\n",
       "      <td>evening</td>\n",
       "      <td>True</td>\n",
       "      <td>False</td>\n",
       "      <td>1</td>\n",
       "      <td>0.56</td>\n",
       "    </tr>\n",
       "    <tr>\n",
       "      <th>...</th>\n",
       "      <td>...</td>\n",
       "      <td>...</td>\n",
       "      <td>...</td>\n",
       "      <td>...</td>\n",
       "      <td>...</td>\n",
       "      <td>...</td>\n",
       "      <td>...</td>\n",
       "      <td>...</td>\n",
       "      <td>...</td>\n",
       "      <td>...</td>\n",
       "      <td>...</td>\n",
       "      <td>...</td>\n",
       "      <td>...</td>\n",
       "      <td>...</td>\n",
       "    </tr>\n",
       "    <tr>\n",
       "      <th>517749</th>\n",
       "      <td>517749</td>\n",
       "      <td>highway</td>\n",
       "      <td>4</td>\n",
       "      <td>0.10</td>\n",
       "      <td>70</td>\n",
       "      <td>daylight</td>\n",
       "      <td>foggy</td>\n",
       "      <td>True</td>\n",
       "      <td>True</td>\n",
       "      <td>afternoon</td>\n",
       "      <td>False</td>\n",
       "      <td>False</td>\n",
       "      <td>2</td>\n",
       "      <td>0.32</td>\n",
       "    </tr>\n",
       "    <tr>\n",
       "      <th>517750</th>\n",
       "      <td>517750</td>\n",
       "      <td>rural</td>\n",
       "      <td>4</td>\n",
       "      <td>0.47</td>\n",
       "      <td>35</td>\n",
       "      <td>daylight</td>\n",
       "      <td>rainy</td>\n",
       "      <td>True</td>\n",
       "      <td>True</td>\n",
       "      <td>morning</td>\n",
       "      <td>False</td>\n",
       "      <td>False</td>\n",
       "      <td>1</td>\n",
       "      <td>0.26</td>\n",
       "    </tr>\n",
       "    <tr>\n",
       "      <th>517751</th>\n",
       "      <td>517751</td>\n",
       "      <td>urban</td>\n",
       "      <td>4</td>\n",
       "      <td>0.62</td>\n",
       "      <td>25</td>\n",
       "      <td>daylight</td>\n",
       "      <td>foggy</td>\n",
       "      <td>False</td>\n",
       "      <td>False</td>\n",
       "      <td>afternoon</td>\n",
       "      <td>False</td>\n",
       "      <td>True</td>\n",
       "      <td>0</td>\n",
       "      <td>0.19</td>\n",
       "    </tr>\n",
       "    <tr>\n",
       "      <th>517752</th>\n",
       "      <td>517752</td>\n",
       "      <td>highway</td>\n",
       "      <td>3</td>\n",
       "      <td>0.63</td>\n",
       "      <td>25</td>\n",
       "      <td>night</td>\n",
       "      <td>clear</td>\n",
       "      <td>True</td>\n",
       "      <td>False</td>\n",
       "      <td>afternoon</td>\n",
       "      <td>True</td>\n",
       "      <td>True</td>\n",
       "      <td>3</td>\n",
       "      <td>0.51</td>\n",
       "    </tr>\n",
       "    <tr>\n",
       "      <th>517753</th>\n",
       "      <td>517753</td>\n",
       "      <td>highway</td>\n",
       "      <td>2</td>\n",
       "      <td>0.31</td>\n",
       "      <td>45</td>\n",
       "      <td>dim</td>\n",
       "      <td>rainy</td>\n",
       "      <td>False</td>\n",
       "      <td>True</td>\n",
       "      <td>afternoon</td>\n",
       "      <td>True</td>\n",
       "      <td>True</td>\n",
       "      <td>2</td>\n",
       "      <td>0.22</td>\n",
       "    </tr>\n",
       "  </tbody>\n",
       "</table>\n",
       "<p>517754 rows × 14 columns</p>\n",
       "</div>"
      ],
      "text/plain": [
       "            id road_type  num_lanes  curvature  speed_limit  lighting weather  \\\n",
       "0            0     urban          2       0.06           35  daylight   rainy   \n",
       "1            1     urban          4       0.99           35  daylight   clear   \n",
       "2            2     rural          4       0.63           70       dim   clear   \n",
       "3            3   highway          4       0.07           35       dim   rainy   \n",
       "4            4     rural          1       0.58           60  daylight   foggy   \n",
       "...        ...       ...        ...        ...          ...       ...     ...   \n",
       "517749  517749   highway          4       0.10           70  daylight   foggy   \n",
       "517750  517750     rural          4       0.47           35  daylight   rainy   \n",
       "517751  517751     urban          4       0.62           25  daylight   foggy   \n",
       "517752  517752   highway          3       0.63           25     night   clear   \n",
       "517753  517753   highway          2       0.31           45       dim   rainy   \n",
       "\n",
       "        road_signs_present  public_road time_of_day  holiday  school_season  \\\n",
       "0                    False         True   afternoon    False           True   \n",
       "1                     True        False     evening     True           True   \n",
       "2                    False         True     morning     True          False   \n",
       "3                     True         True     morning    False          False   \n",
       "4                    False        False     evening     True          False   \n",
       "...                    ...          ...         ...      ...            ...   \n",
       "517749                True         True   afternoon    False          False   \n",
       "517750                True         True     morning    False          False   \n",
       "517751               False        False   afternoon    False           True   \n",
       "517752                True        False   afternoon     True           True   \n",
       "517753               False         True   afternoon     True           True   \n",
       "\n",
       "        num_reported_accidents  accident_risk  \n",
       "0                            1           0.13  \n",
       "1                            0           0.35  \n",
       "2                            2           0.30  \n",
       "3                            1           0.21  \n",
       "4                            1           0.56  \n",
       "...                        ...            ...  \n",
       "517749                       2           0.32  \n",
       "517750                       1           0.26  \n",
       "517751                       0           0.19  \n",
       "517752                       3           0.51  \n",
       "517753                       2           0.22  \n",
       "\n",
       "[517754 rows x 14 columns]"
      ]
     },
     "execution_count": 4,
     "metadata": {},
     "output_type": "execute_result"
    }
   ],
   "source": [
    "df"
   ]
  },
  {
   "cell_type": "markdown",
   "metadata": {},
   "source": [
    "### 📊 Checking Dataset Information\n",
    "\n",
    "Here we call `df.info()` and `df.describe()` to explore:  \n",
    "- Data types and non-null counts.  \n",
    "- Basic statistical summaries for numeric columns.  \n",
    "\n",
    "This helps identify missing values, incorrect data types, or other anomalies.\n"
   ]
  },
  {
   "cell_type": "code",
   "execution_count": null,
   "metadata": {
    "execution": {
     "iopub.execute_input": "2025-10-30T06:11:41.241016Z",
     "iopub.status.busy": "2025-10-30T06:11:41.240718Z",
     "iopub.status.idle": "2025-10-30T06:11:44.889670Z",
     "shell.execute_reply": "2025-10-30T06:11:44.888575Z",
     "shell.execute_reply.started": "2025-10-30T06:11:41.240996Z"
    },
    "trusted": true
   },
   "outputs": [
    {
     "name": "stdout",
     "output_type": "stream",
     "text": [
      "\n",
      "===== BASIC INFO =====\n",
      "<class 'pandas.core.frame.DataFrame'>\n",
      "RangeIndex: 517754 entries, 0 to 517753\n",
      "Data columns (total 14 columns):\n",
      " #   Column                  Non-Null Count   Dtype  \n",
      "---  ------                  --------------   -----  \n",
      " 0   id                      517754 non-null  int64  \n",
      " 1   road_type               517754 non-null  object \n",
      " 2   num_lanes               517754 non-null  int64  \n",
      " 3   curvature               517754 non-null  float64\n",
      " 4   speed_limit             517754 non-null  int64  \n",
      " 5   lighting                517754 non-null  object \n",
      " 6   weather                 517754 non-null  object \n",
      " 7   road_signs_present      517754 non-null  bool   \n",
      " 8   public_road             517754 non-null  bool   \n",
      " 9   time_of_day             517754 non-null  object \n",
      " 10  holiday                 517754 non-null  bool   \n",
      " 11  school_season           517754 non-null  bool   \n",
      " 12  num_reported_accidents  517754 non-null  int64  \n",
      " 13  accident_risk           517754 non-null  float64\n",
      "dtypes: bool(4), float64(2), int64(4), object(4)\n",
      "memory usage: 41.5+ MB\n",
      "None\n",
      "\n",
      "===== SAMPLE DATA =====\n",
      "   id road_type  num_lanes  curvature  speed_limit  lighting weather  \\\n",
      "0   0     urban          2       0.06           35  daylight   rainy   \n",
      "1   1     urban          4       0.99           35  daylight   clear   \n",
      "2   2     rural          4       0.63           70       dim   clear   \n",
      "3   3   highway          4       0.07           35       dim   rainy   \n",
      "4   4     rural          1       0.58           60  daylight   foggy   \n",
      "\n",
      "   road_signs_present  public_road time_of_day  holiday  school_season  \\\n",
      "0               False         True   afternoon    False           True   \n",
      "1                True        False     evening     True           True   \n",
      "2               False         True     morning     True          False   \n",
      "3                True         True     morning    False          False   \n",
      "4               False        False     evening     True          False   \n",
      "\n",
      "   num_reported_accidents  accident_risk  \n",
      "0                       1           0.13  \n",
      "1                       0           0.35  \n",
      "2                       2           0.30  \n",
      "3                       1           0.21  \n",
      "4                       1           0.56  \n",
      "\n",
      "===== MISSING VALUES =====\n",
      "id                        0\n",
      "road_type                 0\n",
      "num_lanes                 0\n",
      "curvature                 0\n",
      "speed_limit               0\n",
      "lighting                  0\n",
      "weather                   0\n",
      "road_signs_present        0\n",
      "public_road               0\n",
      "time_of_day               0\n",
      "holiday                   0\n",
      "school_season             0\n",
      "num_reported_accidents    0\n",
      "accident_risk             0\n",
      "dtype: int64\n",
      "\n",
      "===== NUMERICAL SUMMARY =====\n",
      "                  id      num_lanes      curvature    speed_limit  \\\n",
      "count  517754.000000  517754.000000  517754.000000  517754.000000   \n",
      "mean   258876.500000       2.491511       0.488719      46.112575   \n",
      "std    149462.849974       1.120434       0.272563      15.788521   \n",
      "min         0.000000       1.000000       0.000000      25.000000   \n",
      "25%    129438.250000       1.000000       0.260000      35.000000   \n",
      "50%    258876.500000       2.000000       0.510000      45.000000   \n",
      "75%    388314.750000       3.000000       0.710000      60.000000   \n",
      "max    517753.000000       4.000000       1.000000      70.000000   \n",
      "\n",
      "       num_reported_accidents  accident_risk  \n",
      "count           517754.000000  517754.000000  \n",
      "mean                 1.187970       0.352377  \n",
      "std                  0.895961       0.166417  \n",
      "min                  0.000000       0.000000  \n",
      "25%                  1.000000       0.230000  \n",
      "50%                  1.000000       0.340000  \n",
      "75%                  2.000000       0.460000  \n",
      "max                  7.000000       1.000000  \n"
     ]
    },
    {
     "name": "stderr",
     "output_type": "stream",
     "text": [
      "/usr/local/lib/python3.11/dist-packages/seaborn/_oldcore.py:1119: FutureWarning: use_inf_as_na option is deprecated and will be removed in a future version. Convert inf values to NaN before operating instead.\n",
      "  with pd.option_context('mode.use_inf_as_na', True):\n"
     ]
    },
    {
     "data": {
      "image/png": "[encoded data removed]",
      "text/plain": [
       "<Figure size 640x480 with 1 Axes>"
      ]
     },
     "metadata": {},
     "output_type": "display_data"
    }
   ],
   "source": [
    "\n",
    "import pandas as pd\n",
    "import numpy as np\n",
    "import matplotlib.pyplot as plt\n",
    "import seaborn as sns\n",
    "\n",
    "\n",
    "# Basic info\n",
    "print(\"\\n===== BASIC INFO =====\")\n",
    "print(df.info())\n",
    "\n",
    "# Preview\n",
    "print(\"\\n===== SAMPLE DATA =====\")\n",
    "print(df.head())\n",
    "\n",
    "# Missing values\n",
    "print(\"\\n===== MISSING VALUES =====\")\n",
    "print(df.isnull().sum())\n",
    "\n",
    "# Summary stats\n",
    "print(\"\\n===== NUMERICAL SUMMARY =====\")\n",
    "print(df.describe())\n",
    "\n",
    "# Check target distribution\n",
    "sns.histplot(df['accident_risk'], kde=True, bins=30)\n",
    "plt.title(\"Accident Risk Distribution\")\n",
    "plt.show()\n"
   ]
  },
  {
   "cell_type": "markdown",
   "metadata": {},
   "source": [
    "### 🧼 Data Cleaning and Handling Missing Values\n",
    "\n",
    "We inspect for missing entries using `df.isnull().sum()` and handle them through either imputation or removal.  \n",
    "A clean dataset ensures smoother model training and better predictions.\n"
   ]
  },
  {
   "cell_type": "code",
   "execution_count": 6,
   "metadata": {
    "execution": {
     "iopub.execute_input": "2025-10-30T06:11:44.891186Z",
     "iopub.status.busy": "2025-10-30T06:11:44.890697Z",
     "iopub.status.idle": "2025-10-30T06:11:45.922301Z",
     "shell.execute_reply": "2025-10-30T06:11:45.921417Z",
     "shell.execute_reply.started": "2025-10-30T06:11:44.891157Z"
    },
    "trusted": true
   },
   "outputs": [
    {
     "name": "stdout",
     "output_type": "stream",
     "text": [
      "Columns: ['id', 'road_type', 'num_lanes', 'curvature', 'speed_limit', 'lighting', 'weather', 'road_signs_present', 'public_road', 'time_of_day', 'holiday', 'school_season', 'num_reported_accidents', 'accident_risk']\n",
      "Target (accident_risk) summary (full):\n",
      "count    517754.000000\n",
      "mean          0.352377\n",
      "std           0.166417\n",
      "min           0.000000\n",
      "25%           0.230000\n",
      "50%           0.340000\n",
      "75%           0.460000\n",
      "max           1.000000\n",
      "Name: accident_risk, dtype: float64\n",
      "\n",
      "Missing values:\n",
      "id                        0\n",
      "road_type                 0\n",
      "num_lanes                 0\n",
      "curvature                 0\n",
      "speed_limit               0\n",
      "lighting                  0\n",
      "weather                   0\n",
      "road_signs_present        0\n",
      "public_road               0\n",
      "time_of_day               0\n",
      "holiday                   0\n",
      "school_season             0\n",
      "num_reported_accidents    0\n",
      "accident_risk             0\n",
      "dtype: int64\n"
     ]
    },
    {
     "name": "stderr",
     "output_type": "stream",
     "text": [
      "/usr/local/lib/python3.11/dist-packages/seaborn/_oldcore.py:1119: FutureWarning: use_inf_as_na option is deprecated and will be removed in a future version. Convert inf values to NaN before operating instead.\n",
      "  with pd.option_context('mode.use_inf_as_na', True):\n"
     ]
    },
    {
     "data": {
      "image/png": "[encoded data removed]",
      "text/plain": [
       "<Figure size 600x400 with 1 Axes>"
      ]
     },
     "metadata": {},
     "output_type": "display_data"
    },
    {
     "name": "stdout",
     "output_type": "stream",
     "text": [
      "Numeric columns: ['num_lanes', 'curvature', 'speed_limit', 'num_reported_accidents', 'accident_risk']\n",
      "\n",
      "Skewness:\n",
      " accident_risk             0.378417\n",
      "num_reported_accidents    0.373967\n",
      "speed_limit               0.181159\n",
      "num_lanes                 0.012775\n",
      "curvature                -0.038684\n",
      "dtype: float64\n",
      "Categorical columns: ['road_type', 'lighting', 'weather', 'road_signs_present', 'public_road', 'time_of_day', 'holiday', 'school_season']\n"
     ]
    },
    {
     "data": {
      "image/png": "[encoded data removed]",
      "text/plain": [
       "<Figure size 1000x800 with 2 Axes>"
      ]
     },
     "metadata": {},
     "output_type": "display_data"
    }
   ],
   "source": [
    "\n",
    "import matplotlib.pyplot as plt, seaborn as sns\n",
    "from scipy.stats import skew\n",
    "import pandas as pd\n",
    "import numpy as np\n",
    "# Use a sample for plotting and quick stats (but run numeric summaries on full if needed)\n",
    "SAMPLE_N = 50000 if len(df) > 50000 else len(df)\n",
    "df_sample = df.sample(SAMPLE_N, random_state=42)\n",
    "\n",
    "print(\"Columns:\", df.columns.tolist())\n",
    "print(\"Target (accident_risk) summary (full):\")\n",
    "print(df['accident_risk'].describe())\n",
    "\n",
    "# Missing and dtypes\n",
    "print(\"\\nMissing values:\")\n",
    "print(df.isnull().sum())\n",
    "\n",
    "# Basic plots (sample)\n",
    "plt.figure(figsize=(6,4))\n",
    "sns.histplot(df_sample['accident_risk'], bins=50, kde=True)\n",
    "plt.title(\"accident_risk distribution (sample)\")\n",
    "plt.show()\n",
    "\n",
    "# Numerical columns:\n",
    "num_cols = df.select_dtypes(include=[np.number]).columns.tolist()\n",
    "num_cols.remove('id') if 'id' in num_cols else None\n",
    "print(\"Numeric columns:\", num_cols)\n",
    "\n",
    "# Skewness (on sample or full)\n",
    "skew_vals = df[num_cols].apply(lambda x: skew(x.dropna())).sort_values(ascending=False)\n",
    "print(\"\\nSkewness:\\n\", skew_vals)\n",
    "\n",
    "# Categorical columns\n",
    "cat_cols = [c for c in df.columns if c not in num_cols and c != 'accident_risk' and c != 'id']\n",
    "print(\"Categorical columns:\", cat_cols)\n",
    "\n",
    "# Correlations (on numeric subset)\n",
    "plt.figure(figsize=(10,8))\n",
    "sns.heatmap(df_sample[num_cols + ['accident_risk']].corr(), annot=True, fmt=\".2f\", cmap='coolwarm')\n",
    "plt.title(\"Numeric Correlation (sample)\")\n",
    "plt.show()\n"
   ]
  },
  {
   "cell_type": "code",
   "execution_count": 8,
   "metadata": {
    "execution": {
     "iopub.execute_input": "2025-10-30T06:11:46.911217Z",
     "iopub.status.busy": "2025-10-30T06:11:46.911000Z",
     "iopub.status.idle": "2025-10-30T06:11:47.526948Z",
     "shell.execute_reply": "2025-10-30T06:11:47.525954Z",
     "shell.execute_reply.started": "2025-10-30T06:11:46.911199Z"
    },
    "trusted": true
   },
   "outputs": [
    {
     "name": "stderr",
     "output_type": "stream",
     "text": [
      "/usr/local/lib/python3.11/dist-packages/seaborn/_oldcore.py:1119: FutureWarning: use_inf_as_na option is deprecated and will be removed in a future version. Convert inf values to NaN before operating instead.\n",
      "  with pd.option_context('mode.use_inf_as_na', True):\n"
     ]
    },
    {
     "data": {
      "image/png": "[encoded data removed]",
      "text/plain": [
       "<Figure size 600x400 with 1 Axes>"
      ]
     },
     "metadata": {},
     "output_type": "display_data"
    },
    {
     "name": "stdout",
     "output_type": "stream",
     "text": [
      "                           count       mean        std   min    25%    50%  \\\n",
      "num_lanes               517754.0   2.491511   1.120434   1.0   1.00   2.00   \n",
      "curvature               517754.0   0.488719   0.272563   0.0   0.26   0.51   \n",
      "speed_limit             517754.0  46.112575  15.788521  25.0  35.00  45.00   \n",
      "num_reported_accidents  517754.0   1.187970   0.895961   0.0   1.00   1.00   \n",
      "\n",
      "                          75%   max  \n",
      "num_lanes                3.00   4.0  \n",
      "curvature                0.71   1.0  \n",
      "speed_limit             60.00  70.0  \n",
      "num_reported_accidents   2.00   7.0  \n",
      "\n",
      "Skewness (full):\n",
      "num_reported_accidents    0.373969\n",
      "speed_limit               0.181160\n",
      "num_lanes                 0.012775\n",
      "curvature                -0.038685\n",
      "dtype: float64\n",
      "\n",
      "Value counts for road_type\n",
      "road_type\n",
      "highway    0.33608\n",
      "rural      0.33410\n",
      "urban      0.32982\n",
      "Name: proportion, dtype: float64\n",
      "\n",
      "Value counts for lighting\n",
      "lighting\n",
      "dim         0.35696\n",
      "daylight    0.34162\n",
      "night       0.30142\n",
      "Name: proportion, dtype: float64\n",
      "\n",
      "Value counts for weather\n",
      "weather\n",
      "foggy    0.35128\n",
      "clear    0.34586\n",
      "rainy    0.30286\n",
      "Name: proportion, dtype: float64\n",
      "\n",
      "Value counts for time_of_day\n",
      "time_of_day\n",
      "morning      0.33686\n",
      "evening      0.33400\n",
      "afternoon    0.32914\n",
      "Name: proportion, dtype: float64\n"
     ]
    }
   ],
   "source": [
    "# STAGE 1: EDA (use sample for plotting speed)\n",
    "import matplotlib.pyplot as plt\n",
    "import seaborn as sns\n",
    "from scipy.stats import skew\n",
    "\n",
    "SAMPLE_N = 50000 if len(df) > 50000 else len(df)\n",
    "df_sample = df.sample(SAMPLE_N, random_state=42)\n",
    "\n",
    "# Target distribution\n",
    "plt.figure(figsize=(6,4))\n",
    "sns.histplot(df_sample['accident_risk'], bins=50, kde=True)\n",
    "plt.title('accident_risk distribution (sample)')\n",
    "plt.show()\n",
    "\n",
    "# Numeric summary\n",
    "num_cols = ['num_lanes','curvature','speed_limit','num_reported_accidents']\n",
    "print(df[num_cols].describe().T)\n",
    "\n",
    "# Skewness\n",
    "print(\"\\nSkewness (full):\")\n",
    "print(df[num_cols].skew().sort_values(ascending=False))\n",
    "\n",
    "# Categorical counts (small)\n",
    "cat_cols = ['road_type','lighting','weather','time_of_day']\n",
    "for c in cat_cols:\n",
    "    print(\"\\nValue counts for\", c)\n",
    "    print(df_sample[c].value_counts(normalize=True).head())\n"
   ]
  },
  {
   "cell_type": "markdown",
   "metadata": {},
   "source": [
    "### 🔠 Encoding Categorical Columns\n",
    "\n",
    "Since machine learning models only work with numerical inputs,  \n",
    "we encode categorical variables such as `road_type`, `lighting`, `weather`, etc., using **LabelEncoder** or **One-Hot Encoding**.\n"
   ]
  },
  {
   "cell_type": "code",
   "execution_count": null,
   "metadata": {
    "execution": {
     "iopub.execute_input": "2025-10-30T06:11:47.528023Z",
     "iopub.status.busy": "2025-10-30T06:11:47.527770Z",
     "iopub.status.idle": "2025-10-30T06:11:47.840578Z",
     "shell.execute_reply": "2025-10-30T06:11:47.839537Z",
     "shell.execute_reply.started": "2025-10-30T06:11:47.527994Z"
    },
    "trusted": true
   },
   "outputs": [
    {
     "name": "stdout",
     "output_type": "stream",
     "text": [
      "After encoding shape: (517754, 18)\n",
      "Columns sample: ['id', 'num_lanes', 'curvature', 'speed_limit', 'road_signs_present', 'public_road', 'holiday', 'school_season', 'num_reported_accidents', 'accident_risk', 'road_type_rural', 'road_type_urban', 'lighting_dim', 'lighting_night', 'weather_foggy', 'weather_rainy', 'time_of_day_evening', 'time_of_day_morning']\n"
     ]
    }
   ],
   "source": [
    "\n",
    "df = df.copy()\n",
    "\n",
    "# Boolean columns → int\n",
    "bool_cols = ['road_signs_present','public_road','holiday','school_season']\n",
    "for c in bool_cols:\n",
    "    df[c] = df[c].astype(int)\n",
    "\n",
    "# One-hot encode categorical columns (drop_first to avoid collinearity)\n",
    "cat_cols = ['road_type','lighting','weather','time_of_day']\n",
    "df = pd.get_dummies(df, columns=cat_cols, drop_first=True)\n",
    "\n",
    "# Confirm\n",
    "print(\"After encoding shape:\", df.shape)\n",
    "print(\"Columns sample:\", df.columns.tolist()[:30])\n"
   ]
  },
  {
   "cell_type": "code",
   "execution_count": 10,
   "metadata": {
    "execution": {
     "iopub.execute_input": "2025-10-30T06:11:47.841789Z",
     "iopub.status.busy": "2025-10-30T06:11:47.841529Z",
     "iopub.status.idle": "2025-10-30T06:11:47.847195Z",
     "shell.execute_reply": "2025-10-30T06:11:47.846326Z",
     "shell.execute_reply.started": "2025-10-30T06:11:47.841763Z"
    },
    "trusted": true
   },
   "outputs": [
    {
     "name": "stdout",
     "output_type": "stream",
     "text": [
      "Non-numeric columns: []\n"
     ]
    }
   ],
   "source": [
    "print(\"Non-numeric columns:\", df.select_dtypes(include=['object']).columns.tolist())\n"
   ]
  },
  {
   "cell_type": "markdown",
   "metadata": {},
   "source": [
    "### ⚖️ Feature Scaling\n",
    "\n",
    "We standardize or normalize the numeric features using **StandardScaler** or **MinMaxScaler**.  \n",
    "This ensures that large-magnitude features don’t dominate during model learning.\n"
   ]
  },
  {
   "cell_type": "code",
   "execution_count": 11,
   "metadata": {
    "execution": {
     "iopub.execute_input": "2025-10-30T06:11:47.848591Z",
     "iopub.status.busy": "2025-10-30T06:11:47.848297Z",
     "iopub.status.idle": "2025-10-30T06:11:47.958091Z",
     "shell.execute_reply": "2025-10-30T06:11:47.957221Z",
     "shell.execute_reply.started": "2025-10-30T06:11:47.848566Z"
    },
    "trusted": true
   },
   "outputs": [
    {
     "name": "stdout",
     "output_type": "stream",
     "text": [
      "Outlier capping done (Z-cap).\n",
      "Skewness after Z-cap:\n",
      " num_reported_accidents    0.335145\n",
      "speed_limit               0.181160\n",
      "num_lanes                 0.012775\n",
      "curvature                -0.038685\n",
      "dtype: float64\n",
      "Final skewness:\n",
      " num_lanes                 0.012775\n",
      "curvature                -0.038685\n",
      "speed_limit               0.181160\n",
      "num_reported_accidents    0.335145\n",
      "dtype: float64\n"
     ]
    }
   ],
   "source": [
    "import numpy as np\n",
    "\n",
    "num_cols = ['num_lanes','curvature','speed_limit','num_reported_accidents']\n",
    "\n",
    "# Z-cap at |Z| > 3\n",
    "for c in num_cols:\n",
    "    mu = df[c].mean()\n",
    "    sigma = df[c].std()\n",
    "    z = (df[c] - mu) / sigma\n",
    "    df[c] = np.where(z > 3, mu + 3*sigma, np.where(z < -3, mu - 3*sigma, df[c]))\n",
    "\n",
    "print(\"Outlier capping done (Z-cap).\")\n",
    "\n",
    "# Check skewness and apply log1p only if needed\n",
    "skew_after = df[num_cols].skew().sort_values(ascending=False)\n",
    "print(\"Skewness after Z-cap:\\n\", skew_after)\n",
    "\n",
    "for c in num_cols:\n",
    "    if abs(skew_after[c]) > 0.75:\n",
    "        # shift if negative values might exist (shouldn't for these fields)\n",
    "        if (df[c] <= 0).any():\n",
    "            shift = abs(df[c].min()) + 1e-6\n",
    "            df[c] = df[c] + shift\n",
    "        df[c] = np.log1p(df[c])\n",
    "        print(f\"Applied log1p to {c}\")\n",
    "\n",
    "print(\"Final skewness:\\n\", df[num_cols].skew())\n"
   ]
  },
  {
   "cell_type": "code",
   "execution_count": 12,
   "metadata": {
    "execution": {
     "iopub.execute_input": "2025-10-30T06:11:47.959470Z",
     "iopub.status.busy": "2025-10-30T06:11:47.959122Z",
     "iopub.status.idle": "2025-10-30T06:11:47.983420Z",
     "shell.execute_reply": "2025-10-30T06:11:47.982483Z",
     "shell.execute_reply.started": "2025-10-30T06:11:47.959440Z"
    },
    "trusted": true
   },
   "outputs": [
    {
     "name": "stdout",
     "output_type": "stream",
     "text": [
      "Using sample shape: (10000, 18)\n"
     ]
    }
   ],
   "source": [
    "# STAGE 4: SAMPLE to speed up experiments\n",
    "SAMPLE_N = 10000   # change to 5000 if needed\n",
    "df_sample = df.sample(n=SAMPLE_N, random_state=42).reset_index(drop=True)\n",
    "print(\"Using sample shape:\", df_sample.shape)\n"
   ]
  },
  {
   "cell_type": "code",
   "execution_count": 13,
   "metadata": {
    "execution": {
     "iopub.execute_input": "2025-10-30T06:11:47.984726Z",
     "iopub.status.busy": "2025-10-30T06:11:47.984376Z",
     "iopub.status.idle": "2025-10-30T06:11:48.165364Z",
     "shell.execute_reply": "2025-10-30T06:11:48.164470Z",
     "shell.execute_reply.started": "2025-10-30T06:11:47.984697Z"
    },
    "trusted": true
   },
   "outputs": [
    {
     "name": "stdout",
     "output_type": "stream",
     "text": [
      "X_train shape: (8000, 16) y_train shape: (8000,)\n"
     ]
    }
   ],
   "source": [
    "\n",
    "from sklearn.model_selection import train_test_split\n",
    "from sklearn.preprocessing import StandardScaler\n",
    "target = 'accident_risk'\n",
    "\n",
    "X = df_sample.drop(columns=[target,'id']) if 'id' in df_sample.columns else df_sample.drop(columns=[target])\n",
    "y = df_sample[target].values\n",
    "\n",
    "# Train-test split\n",
    "X_train, X_test, y_train, y_test = train_test_split(X, y, test_size=0.2, random_state=42)\n",
    "\n",
    "# Scale numeric columns (we kept above num_cols names)\n",
    "scaler = StandardScaler()\n",
    "X_train[num_cols] = scaler.fit_transform(X_train[num_cols])\n",
    "X_test[num_cols] = scaler.transform(X_test[num_cols])\n",
    "\n",
    "# Save scaler for deployment\n",
    "\n",
    "\n",
    "print(\"X_train shape:\", X_train.shape, \"y_train shape:\", y_train.shape)\n"
   ]
  },
  {
   "cell_type": "code",
   "execution_count": 14,
   "metadata": {
    "execution": {
     "iopub.execute_input": "2025-10-30T06:11:48.168304Z",
     "iopub.status.busy": "2025-10-30T06:11:48.168045Z",
     "iopub.status.idle": "2025-10-30T06:11:50.164690Z",
     "shell.execute_reply": "2025-10-30T06:11:50.163361Z",
     "shell.execute_reply.started": "2025-10-30T06:11:48.168285Z"
    },
    "trusted": true
   },
   "outputs": [
    {
     "name": "stdout",
     "output_type": "stream",
     "text": [
      "              Model        R2       MAE      RMSE\n",
      "4  GradientBoosting  0.876892  0.045384  0.058440\n",
      "5           XGBoost  0.873497  0.046007  0.059240\n",
      "3      RandomForest  0.867038  0.047142  0.060734\n",
      "1             Ridge  0.800393  0.058810  0.074414\n",
      "0  LinearRegression  0.800391  0.058810  0.074415\n",
      "2               KNN  0.775448  0.062096  0.078927\n"
     ]
    }
   ],
   "source": [
    "\n",
    "from sklearn.linear_model import LinearRegression, Ridge\n",
    "from sklearn.ensemble import RandomForestRegressor, GradientBoostingRegressor\n",
    "from sklearn.neighbors import KNeighborsRegressor\n",
    "from sklearn.metrics import mean_squared_error, mean_absolute_error, r2_score\n",
    "import xgboost as xgb\n",
    "import pandas as pd\n",
    "import numpy as np\n",
    "\n",
    "models = {\n",
    "    \"LinearRegression\": LinearRegression(),\n",
    "    \"Ridge\": Ridge(alpha=1.0),\n",
    "    \"KNN\": KNeighborsRegressor(n_neighbors=5, n_jobs=-1),\n",
    "    \"RandomForest\": RandomForestRegressor(n_estimators=50, n_jobs=-1, random_state=42),\n",
    "    \"GradientBoosting\": GradientBoostingRegressor(n_estimators=80, random_state=42),\n",
    "    \"XGBoost\": xgb.XGBRegressor(n_estimators=100, max_depth=4, n_jobs=-1, random_state=42, verbosity=0)\n",
    "}\n",
    "\n",
    "results = []\n",
    "for name, mdl in models.items():\n",
    "    mdl.fit(X_train, y_train)\n",
    "    y_pred = mdl.predict(X_test)\n",
    "    rmse = np.sqrt(mean_squared_error(y_test, y_pred))\n",
    "    mae = mean_absolute_error(y_test, y_pred)\n",
    "    r2 = r2_score(y_test, y_pred)\n",
    "    results.append((name, r2, mae, rmse))\n",
    "    # Save baseline model if you want\n",
    "\n",
    "\n",
    "results_df = pd.DataFrame(results, columns=['Model','R2','MAE','RMSE']).sort_values('R2',ascending=False)\n",
    "print(results_df)\n"
   ]
  },
  {
   "cell_type": "markdown",
   "metadata": {},
   "source": [
    "### 📈 Model Evaluation\n",
    "\n",
    "We assess the model’s predictive performance using metrics such as:  \n",
    "- **R² Score** → proportion of variance explained by the model.  \n",
    "- **MAE**, **MSE**, **RMSE** → measure prediction error magnitude.  \n",
    "\n",
    "These metrics help determine model reliability and generalization.\n"
   ]
  },
  {
   "cell_type": "code",
   "execution_count": 15,
   "metadata": {
    "execution": {
     "iopub.execute_input": "2025-10-30T06:11:50.165458Z",
     "iopub.status.busy": "2025-10-30T06:11:50.165238Z",
     "iopub.status.idle": "2025-10-30T06:11:50.328498Z",
     "shell.execute_reply": "2025-10-30T06:11:50.327612Z",
     "shell.execute_reply.started": "2025-10-30T06:11:50.165434Z"
    },
    "trusted": true
   },
   "outputs": [
    {
     "data": {
      "image/png": "[encoded data removed]",
      "text/plain": [
       "<Figure size 800x500 with 1 Axes>"
      ]
     },
     "metadata": {},
     "output_type": "display_data"
    }
   ],
   "source": [
    "import matplotlib.pyplot as plt\n",
    "import seaborn as sns\n",
    "\n",
    "plt.figure(figsize=(8,5))\n",
    "sns.barplot(x='Model', y='R2', data=results_df.sort_values('R2', ascending=False), palette='viridis')\n",
    "plt.title('Model Comparison (R² Score)')\n",
    "plt.ylabel('R² Score')\n",
    "plt.xlabel('Model')\n",
    "plt.xticks(rotation=30)\n",
    "plt.show()\n"
   ]
  },
  {
   "cell_type": "code",
   "execution_count": 16,
   "metadata": {
    "execution": {
     "iopub.execute_input": "2025-10-30T06:11:50.329500Z",
     "iopub.status.busy": "2025-10-30T06:11:50.329292Z",
     "iopub.status.idle": "2025-10-30T06:11:50.827395Z",
     "shell.execute_reply": "2025-10-30T06:11:50.826356Z",
     "shell.execute_reply.started": "2025-10-30T06:11:50.329483Z"
    },
    "trusted": true
   },
   "outputs": [
    {
     "data": {
      "image/png": "[encoded data removed]",
      "text/plain": [
       "<Figure size 1200x500 with 2 Axes>"
      ]
     },
     "metadata": {},
     "output_type": "display_data"
    }
   ],
   "source": [
    "fig, axes = plt.subplots(1, 2, figsize=(12,5))\n",
    "sns.barplot(x='Model', y='RMSE', data=results_df.sort_values('RMSE'), ax=axes[0], palette='magma')\n",
    "axes[0].set_title('RMSE (lower is better)')\n",
    "axes[0].tick_params(axis='x', rotation=30)\n",
    "\n",
    "sns.barplot(x='Model', y='MAE', data=results_df.sort_values('MAE'), ax=axes[1], palette='cool')\n",
    "axes[1].set_title('MAE (lower is better)')\n",
    "axes[1].tick_params(axis='x', rotation=30)\n",
    "plt.tight_layout()\n",
    "plt.show()\n"
   ]
  },
  {
   "cell_type": "markdown",
   "metadata": {},
   "source": [
    "### 🔧 Hyperparameter Tuning\n",
    "\n",
    "We optimize our model using **RandomizedSearchCV** (or **GridSearchCV**) to find the best combination of parameters like:  \n",
    "- `n_estimators`  \n",
    "- `max_depth`  \n",
    "- `min_samples_split`  \n",
    "\n",
    "This process enhances model accuracy and stability.\n"
   ]
  },
  {
   "cell_type": "code",
   "execution_count": 17,
   "metadata": {
    "execution": {
     "iopub.execute_input": "2025-10-30T06:11:50.828389Z",
     "iopub.status.busy": "2025-10-30T06:11:50.828176Z",
     "iopub.status.idle": "2025-10-30T06:12:18.574703Z",
     "shell.execute_reply": "2025-10-30T06:12:18.573724Z",
     "shell.execute_reply.started": "2025-10-30T06:11:50.828373Z"
    },
    "trusted": true
   },
   "outputs": [
    {
     "name": "stdout",
     "output_type": "stream",
     "text": [
      "Fitting 3 folds for each of 30 candidates, totalling 90 fits\n",
      "Best Parameters: {'subsample': 0.8, 'n_estimators': 100, 'min_samples_split': 10, 'min_samples_leaf': 4, 'max_features': None, 'max_depth': 3, 'learning_rate': 0.1}\n",
      "Best CV R²: 0.8833816989330149\n"
     ]
    }
   ],
   "source": [
    "from sklearn.ensemble import GradientBoostingRegressor\n",
    "from sklearn.model_selection import RandomizedSearchCV\n",
    "import numpy as np\n",
    "\n",
    "gbr = GradientBoostingRegressor(random_state=42)\n",
    "\n",
    "# Define the parameter grid\n",
    "param_dist = {\n",
    "    'n_estimators': [100, 200, 300, 400],\n",
    "    'learning_rate': [0.01, 0.05, 0.1, 0.2],\n",
    "    'max_depth': [3, 4, 5, 6],\n",
    "    'min_samples_split': [2, 5, 10],\n",
    "    'min_samples_leaf': [1, 2, 4],\n",
    "    'subsample': [0.8, 0.9, 1.0],\n",
    "    'max_features': ['sqrt', 'log2', None]\n",
    "}\n",
    "\n",
    "# Randomized Search with cross-validation\n",
    "gbr_random = RandomizedSearchCV(\n",
    "    estimator=gbr,\n",
    "    param_distributions=param_dist,\n",
    "    n_iter=30,  # increase to 50 for deeper search\n",
    "    scoring='r2',\n",
    "    cv=3,\n",
    "    verbose=2,\n",
    "    random_state=42,\n",
    "    n_jobs=-1\n",
    ")\n",
    "\n",
    "# Fit on train data\n",
    "gbr_random.fit(X_train, y_train)\n",
    "\n",
    "print(\"Best Parameters:\", gbr_random.best_params_)\n",
    "print(\"Best CV R²:\", gbr_random.best_score_)\n"
   ]
  },
  {
   "cell_type": "code",
   "execution_count": 18,
   "metadata": {
    "execution": {
     "iopub.execute_input": "2025-10-30T06:12:18.575928Z",
     "iopub.status.busy": "2025-10-30T06:12:18.575570Z",
     "iopub.status.idle": "2025-10-30T06:12:19.184499Z",
     "shell.execute_reply": "2025-10-30T06:12:19.183712Z",
     "shell.execute_reply.started": "2025-10-30T06:12:18.575908Z"
    },
    "trusted": true
   },
   "outputs": [
    {
     "name": "stdout",
     "output_type": "stream",
     "text": [
      "✅ Final Model Performance:\n",
      "R²: 0.8765\n",
      "MAE: 0.0453\n",
      "RMSE: 0.0585\n"
     ]
    }
   ],
   "source": [
    "from sklearn.ensemble import GradientBoostingRegressor\n",
    "from sklearn.metrics import r2_score, mean_absolute_error, mean_squared_error\n",
    "import numpy as np\n",
    "\n",
    "# Use your best params\n",
    "best_params = {\n",
    "    'subsample': 0.8,\n",
    "    'n_estimators': 100,\n",
    "    'min_samples_split': 10,\n",
    "    'min_samples_leaf': 4,\n",
    "    'max_features': None,\n",
    "    'max_depth': 3,\n",
    "    'learning_rate': 0.1\n",
    "}\n",
    "\n",
    "# Retrain on full training data\n",
    "final_gbr = GradientBoostingRegressor(**best_params, random_state=42)\n",
    "final_gbr.fit(X_train, y_train)\n",
    "\n",
    "# Evaluate on test set\n",
    "y_pred = final_gbr.predict(X_test)\n",
    "\n",
    "r2 = r2_score(y_test, y_pred)\n",
    "mae = mean_absolute_error(y_test, y_pred)\n",
    "rmse = np.sqrt(mean_squared_error(y_test, y_pred))\n",
    "\n",
    "print(f\"✅ Final Model Performance:\")\n",
    "print(f\"R²: {r2:.4f}\")\n",
    "print(f\"MAE: {mae:.4f}\")\n",
    "print(f\"RMSE: {rmse:.4f}\")\n"
   ]
  },
  {
   "cell_type": "markdown",
   "metadata": {},
   "source": [
    "### 💾 Saving the Model\n",
    "\n",
    "We export the final trained model using `pickle` or `joblib`,  \n",
    "allowing it to be reused later without retraining.\n"
   ]
  },
  {
   "cell_type": "code",
   "execution_count": 19,
   "metadata": {
    "execution": {
     "iopub.execute_input": "2025-10-30T06:12:19.185636Z",
     "iopub.status.busy": "2025-10-30T06:12:19.185347Z",
     "iopub.status.idle": "2025-10-30T06:12:19.196555Z",
     "shell.execute_reply": "2025-10-30T06:12:19.195646Z",
     "shell.execute_reply.started": "2025-10-30T06:12:19.185606Z"
    },
    "trusted": true
   },
   "outputs": [
    {
     "name": "stdout",
     "output_type": "stream",
     "text": [
      "✅ Model saved as final_gradient_boosting_model.pkl\n"
     ]
    }
   ],
   "source": [
    "import joblib\n",
    "joblib.dump(final_gbr, \"final_gradient_boosting_model.pkl\")\n",
    "print(\"✅ Model saved as final_gradient_boosting_model.pkl\")\n"
   ]
  },
  {
   "cell_type": "code",
   "execution_count": 20,
   "metadata": {
    "execution": {
     "iopub.execute_input": "2025-10-30T06:12:19.197805Z",
     "iopub.status.busy": "2025-10-30T06:12:19.197538Z",
     "iopub.status.idle": "2025-10-30T06:12:19.579652Z",
     "shell.execute_reply": "2025-10-30T06:12:19.578739Z",
     "shell.execute_reply.started": "2025-10-30T06:12:19.197777Z"
    },
    "trusted": true
   },
   "outputs": [
    {
     "name": "stdout",
     "output_type": "stream",
     "text": [
      "\n",
      "Categorical Columns: []\n",
      "Boolean Columns: ['road_type_rural', 'road_type_urban', 'lighting_dim', 'lighting_night', 'weather_foggy', 'weather_rainy', 'time_of_day_evening', 'time_of_day_morning']\n",
      "Numerical Columns: ['num_lanes', 'curvature', 'speed_limit', 'road_signs_present', 'public_road', 'holiday', 'school_season', 'num_reported_accidents']\n",
      "\n",
      "Shape after preprocessing: (517754, 16)\n",
      "Columns after encoding: ['num_lanes', 'curvature', 'speed_limit', 'road_signs_present', 'public_road', 'holiday', 'school_season', 'num_reported_accidents', 'road_type_rural', 'road_type_urban', 'lighting_dim', 'lighting_night', 'weather_foggy', 'weather_rainy', 'time_of_day_evening'] ...\n",
      "\n",
      "Skewness in numerical features:\n",
      " num_reported_accidents    0.335145\n",
      "speed_limit               0.181160\n",
      "num_lanes                 0.012775\n",
      "school_season             0.009943\n",
      "road_signs_present        0.003183\n",
      "public_road              -0.009024\n",
      "holiday                  -0.013992\n",
      "curvature                -0.038685\n",
      "dtype: float64\n"
     ]
    }
   ],
   "source": [
    "from sklearn.preprocessing import StandardScaler\n",
    "\n",
    "# Drop 'id' since it’s just an identifier\n",
    "if 'id' in df.columns:\n",
    "    df = df.drop(columns=['id'])\n",
    "\n",
    "# Separate target\n",
    "target_col = 'accident_risk'\n",
    "X = df.drop(columns=[target_col])\n",
    "y = df[target_col]\n",
    "\n",
    "# Identify types\n",
    "cat_cols = X.select_dtypes(include=['object']).columns.tolist()\n",
    "bool_cols = X.select_dtypes(include=['bool']).columns.tolist()\n",
    "num_cols = X.select_dtypes(include=['int64', 'float64']).columns.tolist()\n",
    "\n",
    "print(\"\\nCategorical Columns:\", cat_cols)\n",
    "print(\"Boolean Columns:\", bool_cols)\n",
    "print(\"Numerical Columns:\", num_cols)\n",
    "\n",
    "# Convert booleans to int\n",
    "for col in bool_cols:\n",
    "    X[col] = X[col].astype(int)\n",
    "\n",
    "# One-hot encode categoricals\n",
    "X = pd.get_dummies(X, columns=cat_cols, drop_first=True)\n",
    "\n",
    "# Scale numerical data\n",
    "scaler = StandardScaler()\n",
    "X[num_cols] = scaler.fit_transform(X[num_cols])\n",
    "\n",
    "print(\"\\nShape after preprocessing:\", X.shape)\n",
    "print(\"Columns after encoding:\", X.columns.tolist()[:15], \"...\")\n",
    "\n",
    "# Quick skewness check\n",
    "skew_vals = X[num_cols].skew().sort_values(ascending=False)\n",
    "print(\"\\nSkewness in numerical features:\\n\", skew_vals)"
   ]
  },
  {
   "cell_type": "code",
   "execution_count": 21,
   "metadata": {
    "execution": {
     "iopub.execute_input": "2025-10-30T06:12:19.581052Z",
     "iopub.status.busy": "2025-10-30T06:12:19.580693Z",
     "iopub.status.idle": "2025-10-30T06:12:19.687271Z",
     "shell.execute_reply": "2025-10-30T06:12:19.686365Z",
     "shell.execute_reply.started": "2025-10-30T06:12:19.581031Z"
    },
    "trusted": true
   },
   "outputs": [
    {
     "name": "stdout",
     "output_type": "stream",
     "text": [
      "✅ Outliers capped using Z-score method (|Z| > 3).\n",
      "\n",
      "Skewness after Z-cap:\n",
      " num_reported_accidents    0.333526\n",
      "speed_limit               0.181160\n",
      "num_lanes                 0.012775\n",
      "curvature                -0.038685\n",
      "dtype: float64\n",
      "\n",
      "Final skewness after log transform:\n",
      "num_lanes                 0.012775\n",
      "curvature                -0.038685\n",
      "speed_limit               0.181160\n",
      "num_reported_accidents    0.333526\n",
      "dtype: float64\n"
     ]
    }
   ],
   "source": [
    "# ===============================\n",
    "# PHASE 2.5: OUTLIER & SKEWNESS HANDLING (Z-CAP METHOD)\n",
    "# ===============================\n",
    "\n",
    "import numpy as np\n",
    "\n",
    "num_cols = ['num_lanes', 'curvature', 'speed_limit', 'num_reported_accidents']\n",
    "\n",
    "# --- Z-cap method ---\n",
    "for col in num_cols:\n",
    "    mean = X[col].mean()\n",
    "    std = X[col].std()\n",
    "    z_score = (X[col] - mean) / std\n",
    "    cap_threshold = 3  # standard cut: |Z| > 3 is outlier\n",
    "    X[col] = np.where(z_score > cap_threshold, mean + cap_threshold * std, X[col])\n",
    "    X[col] = np.where(z_score < -cap_threshold, mean - cap_threshold * std, X[col])\n",
    "\n",
    "print(\"✅ Outliers capped using Z-score method (|Z| > 3).\")\n",
    "\n",
    "# --- Re-check skewness ---\n",
    "skewness = X[num_cols].skew().sort_values(ascending=False)\n",
    "print(\"\\nSkewness after Z-cap:\\n\", skewness)\n",
    "\n",
    "# --- Apply log1p only for skewed ones ---\n",
    "for col in num_cols:\n",
    "    if abs(skewness[col]) > 0.75:\n",
    "        X[col] = np.log1p(X[col])\n",
    "        print(f\"Applied log1p transform on {col}\")\n",
    "\n",
    "print(\"\\nFinal skewness after log transform:\")\n",
    "print(X[num_cols].skew())\n"
   ]
  },
  {
   "cell_type": "code",
   "execution_count": null,
   "metadata": {
    "trusted": true
   },
   "outputs": [],
   "source": []
  },
  {
   "cell_type": "code",
   "execution_count": 22,
   "metadata": {
    "execution": {
     "iopub.execute_input": "2025-10-30T06:12:19.688531Z",
     "iopub.status.busy": "2025-10-30T06:12:19.688257Z",
     "iopub.status.idle": "2025-10-30T06:12:19.781705Z",
     "shell.execute_reply": "2025-10-30T06:12:19.780746Z",
     "shell.execute_reply.started": "2025-10-30T06:12:19.688505Z"
    },
    "trusted": true
   },
   "outputs": [],
   "source": [
    "X = df.drop('accident_risk', axis=1)\n",
    "y = df['accident_risk']\n",
    "\n",
    "from sklearn.model_selection import train_test_split\n",
    "X_train, X_test, y_train, y_test = train_test_split(X, y, test_size=0.2, random_state=42)\n"
   ]
  },
  {
   "cell_type": "code",
   "execution_count": 23,
   "metadata": {
    "execution": {
     "iopub.execute_input": "2025-10-30T06:12:19.782895Z",
     "iopub.status.busy": "2025-10-30T06:12:19.782611Z",
     "iopub.status.idle": "2025-10-30T06:12:19.809724Z",
     "shell.execute_reply": "2025-10-30T06:12:19.809045Z",
     "shell.execute_reply.started": "2025-10-30T06:12:19.782866Z"
    },
    "trusted": true
   },
   "outputs": [],
   "source": [
    "from sklearn.linear_model import LinearRegression, Ridge, Lasso\n",
    "from sklearn.tree import DecisionTreeRegressor\n",
    "from sklearn.ensemble import RandomForestRegressor, GradientBoostingRegressor\n",
    "from sklearn.svm import SVR\n",
    "from sklearn.neighbors import KNeighborsRegressor\n",
    "from sklearn.neural_network import MLPRegressor\n",
    "import xgboost as xgb\n",
    "\n",
    "# Define regression models (lightweight for speed)\n",
    "models = {\n",
    "    \"LinearRegression\": LinearRegression(),\n",
    "    \"DecisionTree\": DecisionTreeRegressor(random_state=42),\n",
    "    \"RandomForest\": RandomForestRegressor(n_estimators=50, n_jobs=-1, random_state=42),\n",
    "    \"GradientBoosting\": GradientBoostingRegressor(n_estimators=80, random_state=42),\n",
    "    \"SVR_rbf\": SVR(kernel='rbf'),\n",
    "    \"KNN\": KNeighborsRegressor(),\n",
    "    \"Lasso\": Lasso(alpha=0.01),\n",
    "    \"Ridge\": Ridge(alpha=1.0),\n",
    "    \"MLP_Regressor\": MLPRegressor(hidden_layer_sizes=(64, 32), max_iter=300, random_state=42),\n",
    "    \"XGBoost\": xgb.XGBRegressor(n_estimators=100, max_depth=4, random_state=42, eval_metric='rmse')\n",
    "}\n"
   ]
  },
  {
   "cell_type": "code",
   "execution_count": 24,
   "metadata": {
    "execution": {
     "iopub.execute_input": "2025-10-30T06:12:19.811219Z",
     "iopub.status.busy": "2025-10-30T06:12:19.810590Z",
     "iopub.status.idle": "2025-10-30T06:12:19.839100Z",
     "shell.execute_reply": "2025-10-30T06:12:19.838144Z",
     "shell.execute_reply.started": "2025-10-30T06:12:19.811180Z"
    },
    "trusted": true
   },
   "outputs": [
    {
     "name": "stdout",
     "output_type": "stream",
     "text": [
      "✅ Using sample dataset of shape: (10000, 16)\n"
     ]
    }
   ],
   "source": [
    "# Take random sample for faster experimentation\n",
    "df_sample = df.sample(n=10000, random_state=42)   # change to 5000 if still slow\n",
    "\n",
    "# Separate features and target\n",
    "X = df_sample.drop('accident_risk', axis=1)\n",
    "y = df_sample['accident_risk']\n",
    "\n",
    "print(\"✅ Using sample dataset of shape:\", X.shape)\n",
    "\n",
    "# Split into train-test sets\n",
    "from sklearn.model_selection import train_test_split\n",
    "X_train, X_test, y_train, y_test = train_test_split(X, y, test_size=0.2, random_state=42)\n"
   ]
  },
  {
   "cell_type": "code",
   "execution_count": 25,
   "metadata": {
    "execution": {
     "iopub.execute_input": "2025-10-30T06:12:19.841025Z",
     "iopub.status.busy": "2025-10-30T06:12:19.840184Z",
     "iopub.status.idle": "2025-10-30T06:12:24.786555Z",
     "shell.execute_reply": "2025-10-30T06:12:24.785872Z",
     "shell.execute_reply.started": "2025-10-30T06:12:19.840987Z"
    },
    "trusted": true
   },
   "outputs": [
    {
     "name": "stdout",
     "output_type": "stream",
     "text": [
      "📈 Model Regression Performance Comparison:\n",
      "              Model  R2_Score       MAE      RMSE\n",
      "0  GradientBoosting  0.877556  0.045265  0.058282\n",
      "1      RandomForest  0.867511  0.046958  0.060626\n",
      "2           XGBoost  0.861878  0.048185  0.061901\n",
      "3     MLP_Regressor  0.825683  0.054132  0.069541\n",
      "4  LinearRegression  0.800391  0.058810  0.074415\n",
      "5             Ridge  0.800347  0.058818  0.074423\n",
      "6           SVR_rbf  0.787035  0.060749  0.076864\n",
      "7      DecisionTree  0.751057  0.064385  0.083103\n",
      "8             Lasso  0.656600  0.077614  0.097604\n",
      "9               KNN  0.637205  0.079974  0.100322\n"
     ]
    }
   ],
   "source": [
    "from sklearn.linear_model import LinearRegression, Ridge, Lasso\n",
    "from sklearn.tree import DecisionTreeRegressor\n",
    "from sklearn.ensemble import RandomForestRegressor, GradientBoostingRegressor\n",
    "from sklearn.svm import SVR\n",
    "from sklearn.neighbors import KNeighborsRegressor\n",
    "from sklearn.neural_network import MLPRegressor\n",
    "import xgboost as xgb\n",
    "\n",
    "# Define regression models\n",
    "models = {\n",
    "    \"LinearRegression\": LinearRegression(),\n",
    "    \"DecisionTree\": DecisionTreeRegressor(random_state=42),\n",
    "    \"RandomForest\": RandomForestRegressor(random_state=42),\n",
    "    \"GradientBoosting\": GradientBoostingRegressor(random_state=42),\n",
    "    \"SVR_rbf\": SVR(kernel='rbf'),\n",
    "    \"KNN\": KNeighborsRegressor(),\n",
    "    \"Lasso\": Lasso(alpha=0.01),\n",
    "    \"Ridge\": Ridge(alpha=1.0),\n",
    "    \"MLP_Regressor\": MLPRegressor(hidden_layer_sizes=(64, 32), max_iter=500, random_state=42),\n",
    "    \"XGBoost\": xgb.XGBRegressor(random_state=42, eval_metric='rmse')\n",
    "}\n",
    "\n",
    "# Train & evaluate\n",
    "from sklearn.metrics import r2_score, mean_absolute_error, mean_squared_error\n",
    "\n",
    "results = []\n",
    "for name, model in models.items():\n",
    "    model.fit(X_train, y_train)\n",
    "    y_pred = model.predict(X_test)\n",
    "\n",
    "    r2 = r2_score(y_test, y_pred)\n",
    "    mae = mean_absolute_error(y_test, y_pred)\n",
    "    rmse = np.sqrt(mean_squared_error(y_test, y_pred))\n",
    "    results.append([name, r2, mae, rmse])\n",
    "\n",
    "results_df = pd.DataFrame(results, columns=[\"Model\", \"R2_Score\", \"MAE\", \"RMSE\"])\n",
    "results_df = results_df.sort_values(by=\"R2_Score\", ascending=False).reset_index(drop=True)\n",
    "\n",
    "print(\"📈 Model Regression Performance Comparison:\")\n",
    "print(results_df)\n"
   ]
  },
  {
   "cell_type": "raw",
   "metadata": {},
   "source": []
  },
  {
   "cell_type": "code",
   "execution_count": 29,
   "metadata": {
    "execution": {
     "iopub.execute_input": "2025-10-30T06:23:27.846802Z",
     "iopub.status.busy": "2025-10-30T06:23:27.846453Z",
     "iopub.status.idle": "2025-10-30T06:23:28.783504Z",
     "shell.execute_reply": "2025-10-30T06:23:28.782578Z",
     "shell.execute_reply.started": "2025-10-30T06:23:27.846780Z"
    },
    "trusted": true
   },
   "outputs": [
    {
     "name": "stdout",
     "output_type": "stream",
     "text": [
      "Path to dataset files: /kaggle/input/for-comp\n",
      "✅ model_feature.pkl saved at: /kaggle/working/model_feature.pkl\n"
     ]
    }
   ],
   "source": [
    "import pandas as pd\n",
    "import os\n",
    "import pickle\n",
    "import kagglehub\n",
    "\n",
    "# Download dataset\n",
    "path = kagglehub.dataset_download(\"omnhinge/for-comp\")\n",
    "print(\"Path to dataset files:\", path)\n",
    "\n",
    "# Load CSV file\n",
    "file_path = os.path.join(path, \"train.csv\")\n",
    "df = pd.read_csv(file_path)\n",
    "\n",
    "# 🔹 Example Feature Engineering\n",
    "df_encoded = pd.get_dummies(df, drop_first=True)\n",
    "\n",
    "if 'Age' in df_encoded.columns and 'Fare' in df_encoded.columns:\n",
    "    df_encoded['Fare_per_Age'] = df_encoded['Fare'] / (df_encoded['Age'] + 1)\n",
    "\n",
    "# 🔹 Save to a writable directory\n",
    "output_path = \"/kaggle/working/model_feature.pkl\"\n",
    "with open(output_path, \"wb\") as f:\n",
    "    pickle.dump(df_encoded, f)\n",
    "\n",
    "print(\"✅ model_feature.pkl saved at:\", output_path)\n"
   ]
  },
  {
   "cell_type": "code",
   "execution_count": 30,
   "metadata": {
    "execution": {
     "iopub.execute_input": "2025-10-30T06:29:31.651664Z",
     "iopub.status.busy": "2025-10-30T06:29:31.650848Z",
     "iopub.status.idle": "2025-10-30T06:29:31.657761Z",
     "shell.execute_reply": "2025-10-30T06:29:31.656722Z",
     "shell.execute_reply.started": "2025-10-30T06:29:31.651638Z"
    },
    "trusted": true
   },
   "outputs": [
    {
     "name": "stdout",
     "output_type": "stream",
     "text": [
      "✅ model_features.pkl saved successfully!\n"
     ]
    }
   ],
   "source": [
    "import joblib\n",
    "\n",
    "# ✅ Assuming X_train is your training dataset used for model.fit()\n",
    "feature_names = list(X_train.columns)\n",
    "\n",
    "# Save them\n",
    "joblib.dump(feature_names, \"model_features.pkl\")\n",
    "\n",
    "print(\"✅ model_features.pkl saved successfully!\")"
   ]
  },
  {
   "cell_type": "code",
   "execution_count": null,
   "metadata": {
    "trusted": true
   },
   "outputs": [],
   "source": []
  }
 ],
 "metadata": {
  "kaggle": {
   "accelerator": "none",
   "dataSources": [
    {
     "datasetId": 8605763,
     "sourceId": 13550148,
     "sourceType": "datasetVersion"
    }
   ],
   "dockerImageVersionId": 31153,
   "isGpuEnabled": false,
   "isInternetEnabled": false,
   "language": "python",
   "sourceType": "notebook"
  },
  "kernelspec": {
   "display_name": "Python 3",
   "language": "python",
   "name": "python3"
  },
  "language_info": {
   "codemirror_mode": {
    "name": "ipython",
    "version": 3
   },
   "file_extension": ".py",
   "mimetype": "text/x-python",
   "name": "python",
   "nbconvert_exporter": "python",
   "pygments_lexer": "ipython3",
   "version": "3.11.13"
  }
 },
 "nbformat": 4,
 "nbformat_minor": 4
}
